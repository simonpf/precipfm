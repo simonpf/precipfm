{
 "cells": [
  {
   "cell_type": "markdown",
   "id": "bbd87a42-4540-4faa-af81-813a482075ab",
   "metadata": {},
   "source": [
    "# Prithvi WxC Forecast\n",
    "\n",
    "This notebook uses the large Prithvi-WxC model and a diagnostic neural network to perform precipitation forecasts."
   ]
  },
  {
   "cell_type": "code",
   "execution_count": 26,
   "id": "165787bf-d19d-4547-aaf1-ee66ac42abda",
   "metadata": {},
   "outputs": [
    {
     "name": "stdout",
     "output_type": "stream",
     "text": [
      "The autoreload extension is already loaded. To reload it, use:\n",
      "  %reload_ext autoreload\n"
     ]
    }
   ],
   "source": [
    "%load_ext autoreload\n",
    "%autoreload 2\n",
    "from pathlib import Path\n",
    "\n",
    "import numpy as np\n",
    "import matplotlib.pyplot as plt\n",
    "import xarray as xr"
   ]
  },
  {
   "cell_type": "code",
   "execution_count": 28,
   "id": "261c6338-1398-440d-8a96-f55143938518",
   "metadata": {},
   "outputs": [],
   "source": [
    "from precipfm.utils import get_date\n",
    "geos_forecasts = sorted(list(Path(\"/data/precipfm/verification/forecast/\").glob(\"**/*.nc\")))\n",
    "initialization_times = [get_date(path) for path in geos_forecasts][4:]"
   ]
  },
  {
   "cell_type": "markdown",
   "id": "cbba831b-f640-4a8d-ab76-ebb473909925",
   "metadata": {},
   "source": [
    "## Load the Prithvi-WxC model"
   ]
  },
  {
   "cell_type": "code",
   "execution_count": 2,
   "id": "4e94194c-39cd-4495-8ed3-9ac6ee1f6932",
   "metadata": {},
   "outputs": [],
   "source": [
    "from precipfm.prithviwxc import load_model\n",
    "mdl = load_model(\n",
    "    checkpoint_path=\"/gdata1/simon/precipfm/models/prithvi.wxc.rollout.2300m.v1.pt\",\n",
    "    auxiliary_path=\"/gdata1/simon/precipfm/training_data_2019/climatology/\",\n",
    "    configuration=\"large\",\n",
    ")"
   ]
  },
  {
   "cell_type": "markdown",
   "id": "0a8d7efd-38cc-4eaa-92cd-0dcd483de585",
   "metadata": {},
   "source": [
    "## Input data loader"
   ]
  },
  {
   "cell_type": "code",
   "execution_count": 3,
   "id": "65eb36bc-e503-4aba-8ee5-9e2e0449b7aa",
   "metadata": {},
   "outputs": [],
   "source": [
    "from precipfm.datasets import GEOSInputData\n",
    "\n",
    "input_loader = GEOSInputData(\n",
    "    \"/gdata1/simon/precipfm/verification/analysis/\",\n",
    "    input_times=[-6, 0],\n",
    "    lead_times=[6]\n",
    ")\n"
   ]
  },
  {
   "cell_type": "markdown",
   "id": "3c8fbbac-3f7b-497d-8765-9493dd7554af",
   "metadata": {},
   "source": [
    "## Diagnostic model"
   ]
  },
  {
   "cell_type": "code",
   "execution_count": 4,
   "id": "8b2472f2-3def-4f52-83aa-f5a79ca06d79",
   "metadata": {},
   "outputs": [],
   "source": [
    "from pytorch_retrieve import load_model\n",
    "from pytorch_retrieve.config import InferenceConfig, RetrievalOutputConfig\n",
    "precip_mdl = load_model(\"/gdata1/simon/precipfm/model_diagnose/gprof_nn_3d.pt\")\n",
    "\n",
    "expected_value = RetrievalOutputConfig(precip_mdl.output_config[\"surface_precip\"], \"ExpectedValue\", {})\n",
    "retrieval_output = {\n",
    "    \"surface_precip\": {\n",
    "        \"surface_precip\": expected_value,\n",
    "    }\n",
    "}\n",
    "inference_config = InferenceConfig(\n",
    "    tile_size=128,\n",
    "    spatial_overlap=32,\n",
    "    retrieval_output=retrieval_output,\n",
    "    batch_size=2,\n",
    ")\n",
    "precip_mdl.inference_config = inference_config\n",
    "precip_mdl.save(\"precip_diagnostic.pt\")\n"
   ]
  },
  {
   "cell_type": "markdown",
   "id": "2af8caa2-293e-45f2-a742-7df72367840c",
   "metadata": {},
   "source": [
    "## Run the forecasts"
   ]
  },
  {
   "cell_type": "code",
   "execution_count": 6,
   "id": "b3790ce3-18ca-4d35-b2ce-1b1a7d1ad079",
   "metadata": {},
   "outputs": [],
   "source": [
    "from precipfm.forecast import Forecaster\n",
    "fc = Forecaster(mdl, input_loader)"
   ]
  },
  {
   "cell_type": "code",
   "execution_count": null,
   "id": "56736a05-f5d5-4d08-b15d-ee076f9ebf98",
   "metadata": {},
   "outputs": [],
   "source": [
    "output_path = Path(\"/gdata1/simon/precipfm/results\") / model_name\n",
    "output_path.mkdir(exist_ok=True)"
   ]
  },
  {
   "cell_type": "code",
   "execution_count": 30,
   "id": "948b01d5-a61f-4302-bd89-cbca22578cd0",
   "metadata": {},
   "outputs": [
    {
     "name": "stderr",
     "output_type": "stream",
     "text": [
      "  0%|                                                                             | 0/4 [00:00<?, ?it/s]/home/simon/src/precipfm/src/precipfm/forecast.py:98: UserWarning: To copy construct from a tensor, it is recommended to use sourceTensor.clone().detach() or sourceTensor.clone().detach().requires_grad_(True), rather than torch.tensor(sourceTensor).\n",
      "  static = pad(torch.tensor(self.input_loader.load_static_data(step_time)))[None]\n"
     ]
    },
    {
     "data": {
      "application/vnd.jupyter.widget-view+json": {
       "model_id": "d623c91541f94ed5ae3b7613a28b2898",
       "version_major": 2,
       "version_minor": 0
      },
      "text/plain": [
       "Output()"
      ]
     },
     "metadata": {},
     "output_type": "display_data"
    },
    {
     "data": {
      "text/html": [
       "<pre style=\"white-space:pre;overflow-x:auto;line-height:normal;font-family:Menlo,'DejaVu Sans Mono',consolas,'Courier New',monospace\"></pre>\n"
      ],
      "text/plain": []
     },
     "metadata": {},
     "output_type": "display_data"
    },
    {
     "name": "stderr",
     "output_type": "stream",
     "text": [
      " 25%|█████████████████▎                                                   | 1/4 [01:05<03:17, 65.78s/it]"
     ]
    },
    {
     "data": {
      "application/vnd.jupyter.widget-view+json": {
       "model_id": "7576629bf8a149e3b4e138b84c8bd3c1",
       "version_major": 2,
       "version_minor": 0
      },
      "text/plain": [
       "Output()"
      ]
     },
     "metadata": {},
     "output_type": "display_data"
    },
    {
     "data": {
      "text/html": [
       "<pre style=\"white-space:pre;overflow-x:auto;line-height:normal;font-family:Menlo,'DejaVu Sans Mono',consolas,'Courier New',monospace\"></pre>\n"
      ],
      "text/plain": []
     },
     "metadata": {},
     "output_type": "display_data"
    },
    {
     "name": "stderr",
     "output_type": "stream",
     "text": [
      " 50%|██████████████████████████████████▌                                  | 2/4 [02:16<02:17, 68.94s/it]"
     ]
    },
    {
     "data": {
      "application/vnd.jupyter.widget-view+json": {
       "model_id": "8325ce6ecbc5444d9130271807fc5773",
       "version_major": 2,
       "version_minor": 0
      },
      "text/plain": [
       "Output()"
      ]
     },
     "metadata": {},
     "output_type": "display_data"
    },
    {
     "data": {
      "text/html": [
       "<pre style=\"white-space:pre;overflow-x:auto;line-height:normal;font-family:Menlo,'DejaVu Sans Mono',consolas,'Courier New',monospace\"></pre>\n"
      ],
      "text/plain": []
     },
     "metadata": {},
     "output_type": "display_data"
    },
    {
     "name": "stderr",
     "output_type": "stream",
     "text": [
      " 75%|███████████████████████████████████████████████████▊                 | 3/4 [03:15<01:04, 64.04s/it]"
     ]
    },
    {
     "data": {
      "application/vnd.jupyter.widget-view+json": {
       "model_id": "87ca6dd8b5454fd4a7070cb732877d02",
       "version_major": 2,
       "version_minor": 0
      },
      "text/plain": [
       "Output()"
      ]
     },
     "metadata": {},
     "output_type": "display_data"
    },
    {
     "data": {
      "text/html": [
       "<pre style=\"white-space:pre;overflow-x:auto;line-height:normal;font-family:Menlo,'DejaVu Sans Mono',consolas,'Courier New',monospace\"></pre>\n"
      ],
      "text/plain": []
     },
     "metadata": {},
     "output_type": "display_data"
    },
    {
     "name": "stderr",
     "output_type": "stream",
     "text": [
      "100%|█████████████████████████████████████████████████████████████████████| 4/4 [04:24<00:00, 66.16s/it]\n"
     ]
    }
   ],
   "source": [
    "results = fc.run(\n",
    "    np.datetime64(\"2025-04-07T00:00:00\"),\n",
    "    4,\n",
    "    diagnostics={\"surface_precip\": precip_mdl}\n",
    ")"
   ]
  },
  {
   "cell_type": "code",
   "execution_count": null,
   "id": "252fb21c-9a68-4613-89f0-7ecb61a579b9",
   "metadata": {},
   "outputs": [],
   "source": []
  }
 ],
 "metadata": {
  "kernelspec": {
   "display_name": "Python 3 (ipykernel)",
   "language": "python",
   "name": "python3"
  },
  "language_info": {
   "codemirror_mode": {
    "name": "ipython",
    "version": 3
   },
   "file_extension": ".py",
   "mimetype": "text/x-python",
   "name": "python",
   "nbconvert_exporter": "python",
   "pygments_lexer": "ipython3",
   "version": "3.10.16"
  }
 },
 "nbformat": 4,
 "nbformat_minor": 5
}
